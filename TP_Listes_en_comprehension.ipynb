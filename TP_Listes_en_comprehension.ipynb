{
 "cells": [
  {
   "cell_type": "markdown",
   "id": "sophisticated-delight",
   "metadata": {},
   "source": [
    "# Listes en compréhension"
   ]
  },
  {
   "cell_type": "markdown",
   "id": "interim-scott",
   "metadata": {},
   "source": [
    "###  Exercice 1 :\n",
    "   1. On considère une liste d’entiers `L1=[-1, 10, 20, -13, 3, 1]`, \n",
    "   \n",
    "      Construire la liste L2 dont les éléments sont 4 fois ceux  de L1  \n",
    "      c’est-à-dire `L2=[-4, 40, 80, -52, 12, 4]`."
   ]
  },
  {
   "cell_type": "code",
   "execution_count": null,
   "id": "political-netherlands",
   "metadata": {},
   "outputs": [],
   "source": []
  },
  {
   "cell_type": "markdown",
   "id": "imported-skirt",
   "metadata": {},
   "source": [
    "   2. Voici un code `Python`\n",
    "```python \n",
    "    L1 = [5, 2, 0, 3, 7, 10]\n",
    "    print(L1)\n",
    "    L2 = [4*i for i in L1]\n",
    "    print(L2)\n",
    "```\n",
    "   a. Taper et exécuter ce code"
   ]
  },
  {
   "cell_type": "code",
   "execution_count": null,
   "id": "instructional-future",
   "metadata": {},
   "outputs": [],
   "source": []
  },
  {
   "cell_type": "markdown",
   "id": "adequate-daily",
   "metadata": {},
   "source": [
    "    b. Comparer ce résultats avec celui obtenu dans la question 1"
   ]
  },
  {
   "cell_type": "raw",
   "id": "imperial-police",
   "metadata": {},
   "source": []
  },
  {
   "cell_type": "markdown",
   "id": "treated-boulder",
   "metadata": {},
   "source": [
    "## Définition\n",
    "   Une liste en compréhension a la syntaxe minimale suivante\n",
    "   \n",
    "   `[` **Expression** `for` $variable$ `in` _Ensemble de valeurs_ `]` \n",
    "\n",
    "   où\n",
    "\n",
    "   • `la paire de crochets`, les mots-clefs `for` et `in` sont obligatoires\n",
    "   \n",
    "   • _Ensemble de valeurs_ est le plus souvent une liste (range peut être considérée comme fournissant une liste)\n",
    "   \n",
    "   • $variable$ est l’élément courant qui parcourt l’Ensemble de valeurs ; elle est appelé variable de contrôle de la liste en compréhension\n",
    "   \n",
    "   • **Expression** est une expression qui dépend en général de la variable et dont la valeur est placée dans la nouvelle liste.\n",
    "\n",
    "\n",
    "   L'intérêt d’une liste en compréhension : générer une liste en une seule instruction.\n",
    "\n",
    "### Exercice 2 :\n",
    "Construire une liste en compréhension L contenant les caractères de la variable Texte, \n",
    "exemple :   si Texte = \"Bonjour\"  alors   L = ['B', 'o', 'n', 'j', 'o', 'u', 'r']"
   ]
  },
  {
   "cell_type": "code",
   "execution_count": null,
   "id": "broadband-cholesterol",
   "metadata": {},
   "outputs": [],
   "source": []
  },
  {
   "cell_type": "markdown",
   "id": "partial-company",
   "metadata": {},
   "source": [
    "## Listes en compréhension imbriquées\n",
    "   Dans une liste en compréhension on peut imbriquer autan de boucle que l'on souhaite, la syntaxe est la suivante (pour deux boucles):\n",
    "   \n",
    "   `[` **Expression** `for` $variable_1$ `in` _Ensemble de valeurs 1_  `for` $variable_2$ `in` _Ensemble de valeurs 2_]` \n",
    "   \n",
    "   exemple : Voir la question 1 de l'exercice 3 ci-dessous\n",
    "\n",
    "\n",
    "### Exercice 3 :\n",
    "   1) Taper et exécuter l'instruction suivante `[lettre+chiffre for lettre in 'AB' for chiffre in '123']`"
   ]
  },
  {
   "cell_type": "code",
   "execution_count": null,
   "id": "silver-universe",
   "metadata": {},
   "outputs": [],
   "source": []
  },
  {
   "cell_type": "markdown",
   "id": "flexible-audio",
   "metadata": {},
   "source": [
    "Expliquer brièvement le résulats obtenu"
   ]
  },
  {
   "cell_type": "raw",
   "id": "jewish-orlando",
   "metadata": {},
   "source": []
  },
  {
   "cell_type": "markdown",
   "id": "departmental-ottawa",
   "metadata": {},
   "source": [
    "   2) Pour chacune des listes suivantes donner son instruction de construction avec liste en compréhension.\n",
    "   \n",
    "      a) La = ['A1', 'B1', 'A2', 'B2', 'A3', 'B3']"
   ]
  },
  {
   "cell_type": "code",
   "execution_count": null,
   "id": "rocky-blues",
   "metadata": {},
   "outputs": [],
   "source": []
  },
  {
   "cell_type": "markdown",
   "id": "driven-landscape",
   "metadata": {},
   "source": [
    "      b) Lb = ['1A', '2A', '3A', '1B', '2B', '3B']"
   ]
  },
  {
   "cell_type": "code",
   "execution_count": null,
   "id": "governmental-helena",
   "metadata": {},
   "outputs": [],
   "source": []
  },
  {
   "cell_type": "markdown",
   "id": "warming-slope",
   "metadata": {},
   "source": [
    "      c) Lc = ['1A', '1B', '2A', '2B', '3A', '3B'] "
   ]
  },
  {
   "cell_type": "code",
   "execution_count": null,
   "id": "formal-nightlife",
   "metadata": {},
   "outputs": [],
   "source": []
  },
  {
   "cell_type": "markdown",
   "id": "cheap-summary",
   "metadata": {},
   "source": [
    "## Création d’un tableau de n lignes et p colonnes initialisé\n",
    "### Exercice 4\n",
    "   1) Recopier la fonction `CreerListe(n,p)` ci-contre et tester la pour **n=5** et **p=3**. \n",
    "       Que semble faire cette fonction ?\n",
    "![Code Exercice 4 Question 1](Liste_en_comprehension_Exo4_Q1.png)"
   ]
  },
  {
   "cell_type": "code",
   "execution_count": null,
   "id": "organized-rotation",
   "metadata": {
    "slideshow": {
     "slide_type": "slide"
    }
   },
   "outputs": [],
   "source": []
  },
  {
   "cell_type": "markdown",
   "id": "engaged-research",
   "metadata": {},
   "source": [
    "   2) Donner une instruction de liste en compréhension permettant de construire une liste de 3 éléments tous nuls."
   ]
  },
  {
   "cell_type": "code",
   "execution_count": null,
   "id": "referenced-cooling",
   "metadata": {},
   "outputs": [],
   "source": []
  },
  {
   "cell_type": "markdown",
   "id": "facial-panama",
   "metadata": {},
   "source": [
    "   3) Donner une instruction en liste de comréhension permettant de construire une liste contenant 5 listes de 3 éléments tous nuls."
   ]
  },
  {
   "cell_type": "code",
   "execution_count": null,
   "id": "exposed-singer",
   "metadata": {},
   "outputs": [],
   "source": []
  },
  {
   "cell_type": "markdown",
   "id": "classical-covering",
   "metadata": {},
   "source": [
    "   4) Y a-t-il d’autres façons de construire une liste contenant 5 listes de 3 éléments tous nuls ?\n",
    "   \n",
    "   si oui écrire les instructions dans la cellule suivante"
   ]
  },
  {
   "cell_type": "code",
   "execution_count": null,
   "id": "little-while",
   "metadata": {},
   "outputs": [],
   "source": []
  },
  {
   "cell_type": "markdown",
   "id": "alien-pipeline",
   "metadata": {},
   "source": [
    "## Listes en compréhension et la condition if\n",
    "\n",
    "### Exercice 5\n",
    "   1) Écrire une instruction en liste de compréhension générant une liste aléatoire L contenant 30 entiers compris entre deux valeur 1 et 20 et afficher la liste\n",
    "\n",
    "   _penser à importer la fonction `randint`_"
   ]
  },
  {
   "cell_type": "code",
   "execution_count": null,
   "id": "circular-creek",
   "metadata": {},
   "outputs": [],
   "source": []
  },
  {
   "cell_type": "markdown",
   "id": "swiss-repository",
   "metadata": {},
   "source": [
    "#### Nouveau\n",
    "\n",
    "Dans une liste en compréhension on peut insérer une condition, la syntaxe est la suivante :\n",
    "   \n",
    "   `[` **Expression** `for` $variable$ `in` _Ensemble de valeurs_ `if` **condition** sur la $variable$`]` \n",
    "   \n",
    "   exemple : `[ i for i in range(10) if i%2==0 ]` donnera la liste `[0, 2, 4, 6, 8]`\n",
    "\n",
    "   2) Écrire une instruction en liste de compréhension permettant de créer une liste T contenant tous les éléments de la liste L strictement supérieurs à 9. Afficher ensuite la liste T"
   ]
  },
  {
   "cell_type": "code",
   "execution_count": null,
   "id": "worth-partnership",
   "metadata": {},
   "outputs": [],
   "source": []
  },
  {
   "cell_type": "markdown",
   "id": "expanded-blank",
   "metadata": {},
   "source": [
    "## Efficacité des listes en compréhension ??\n",
    "\n",
    "Écrire et exécuter le script ci-contre.  (Il faut être un petit peu passion).\n",
    "![Exercice 6](Liste_en_comprehension_Exo6.png)"
   ]
  },
  {
   "cell_type": "code",
   "execution_count": null,
   "id": "generous-publisher",
   "metadata": {},
   "outputs": [],
   "source": []
  },
  {
   "cell_type": "markdown",
   "id": "enormous-thailand",
   "metadata": {},
   "source": [
    "Que peut-on en déduire ?"
   ]
  },
  {
   "cell_type": "raw",
   "id": "radio-serum",
   "metadata": {},
   "source": []
  }
 ],
 "metadata": {
  "celltoolbar": "Aucun(e)",
  "kernelspec": {
   "display_name": "Python 3",
   "language": "python",
   "name": "python3"
  },
  "language_info": {
   "codemirror_mode": {
    "name": "ipython",
    "version": 3
   },
   "file_extension": ".py",
   "mimetype": "text/x-python",
   "name": "python",
   "nbconvert_exporter": "python",
   "pygments_lexer": "ipython3",
   "version": "3.7.9"
  }
 },
 "nbformat": 4,
 "nbformat_minor": 5
}
